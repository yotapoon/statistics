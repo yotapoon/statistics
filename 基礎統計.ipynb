{
 "cells": [
  {
   "cell_type": "markdown",
   "metadata": {},
   "source": [
    "# ライブラリのインポート"
   ]
  },
  {
   "cell_type": "code",
   "execution_count": null,
   "metadata": {},
   "outputs": [],
   "source": [
    "%reload_ext autoreload\n",
    "%autoreload 2\n",
    "import seaborn as sns\n",
    "import pandas as pd\n",
    "import numpy as np\n",
    "import matplotlib as mpl\n",
    "import matplotlib.pyplot as plt\n",
    "%matplotlib inline\n",
    "import statsmodels.api as sm\n",
    "\n",
    "from my_statistics import my_check_data"
   ]
  },
  {
   "cell_type": "markdown",
   "metadata": {},
   "source": [
    "データの読み込み．ここではすでにcompleteなデータであるものとする．"
   ]
  },
  {
   "cell_type": "code",
   "execution_count": null,
   "metadata": {},
   "outputs": [],
   "source": [
    "X = pd.read_excel(\"data.xlsx\", index_col = 0)\n",
    "display(X)"
   ]
  },
  {
   "cell_type": "markdown",
   "metadata": {},
   "source": [
    "# モデルの作成\n",
    "ユニバースを確定した後，ダミー変数への処理が必要．ここで処理をすれば，以降はダミーの名前を指定するだけで呼び出すことができるようになる．\n",
    "またファイル名もここで決定する．以降の結果はシートに保存されることになる．"
   ]
  },
  {
   "cell_type": "code",
   "execution_count": null,
   "metadata": {},
   "outputs": [],
   "source": [
    "model = my_check_data(X, subset = [\"u\"], file_name = \"hoge_data\")\n",
    "dummy1_full_list = [\"A\", \"B\", \"C\", \"D\", \"E\", \"F\", \"G\", \"H\", \"I\", \"J\", \"K\", \"AB\"]\n",
    "model.get_dummies(\"dummy1\", dummy1_full_list)\n",
    "dummy2_full_list = [\"a\", \"b\", \"c\", \"d\", \"e\"]\n",
    "model.get_dummies(\"dummy2\")"
   ]
  },
  {
   "cell_type": "markdown",
   "metadata": {},
   "source": [
    "# 連続変数の分布\n",
    "確認したいファクターをリストで指定することで，ヒストグラムを描画することができる．またそれぞれのファクターの名前が付いたシート上にデータが保存される．"
   ]
  },
  {
   "cell_type": "code",
   "execution_count": null,
   "metadata": {},
   "outputs": [],
   "source": [
    "model.quantitative_factor([\"x\", \"y\", \"z\"])"
   ]
  },
  {
   "cell_type": "markdown",
   "metadata": {},
   "source": [
    "# ダミー変数の分布\n",
    "確認したいダミー変数の名前を(単体で)指定することで，棒グラフを描画する．\n",
    "\n",
    "引数`vertical`によって縦棒グラフ，横棒グラフを指定することができる(デフォルトは`False`(横棒グラフ))．\n",
    "\n",
    "引数`show_existing_only`によって，データに含まれているダミーのみを表示することができる(デフォルトは`True`)．\n",
    "\n",
    "引数`order_by_number`によって，度数によりソートした結果を表示することができる(デフォルトは`False`)"
   ]
  },
  {
   "cell_type": "code",
   "execution_count": null,
   "metadata": {},
   "outputs": [],
   "source": [
    "model.qualitative_factor(\"dummy1\", vertical = True, show_existing_only = True, order_by_number = True)"
   ]
  },
  {
   "cell_type": "markdown",
   "metadata": {},
   "source": [
    "# 連続変数 vs 連続変数\n",
    "量的変数のリスト2つの組み合わせを散布図としてプロット．\n",
    "\n",
    "引数`alpha`によって透過度を指定できる(デフォルトは0.4)．\n",
    "\n",
    "引数`fontsize_label`と`fontsize_title`により，軸ラベルとタイトルのフォントサイズをそれぞれ指定することができる(デフォルトは14)．"
   ]
  },
  {
   "cell_type": "code",
   "execution_count": null,
   "metadata": {},
   "outputs": [],
   "source": [
    "model.quantitative_vs_quantitative([\"u\", \"v\"], [\"x\", \"y\", \"z\"], alpha = 0.4, fontsize_title = 18)"
   ]
  },
  {
   "cell_type": "markdown",
   "metadata": {},
   "source": [
    "# ダミー変数と連続変数\n",
    "ダミー変数と量的変数のリストの組み合わせを箱ひげ図としてプロット．\n",
    "\n",
    "引数`vertical`が`False`であるときは，ダミー変数が行(縦)に並び，ファクターが列となる(デフォルトでは`False`)．\n",
    "\n",
    "引数`show_existing_only`によって，データに含まれているダミーのみを表示することができる(デフォルトは`True`)．"
   ]
  },
  {
   "cell_type": "code",
   "execution_count": null,
   "metadata": {
    "scrolled": true
   },
   "outputs": [],
   "source": [
    "model.qualitative_vs_quantitative(\"dummy1\", [\"x\", \"y\"], vertical = False, show_existing_only = True)"
   ]
  },
  {
   "cell_type": "markdown",
   "metadata": {},
   "source": [
    "# ダミー変数 vs ダミー変数\n",
    "ダミー変数2つの組み合わせに対してヒートマップをプロットする．"
   ]
  },
  {
   "cell_type": "code",
   "execution_count": null,
   "metadata": {},
   "outputs": [],
   "source": [
    "model.qualitative_vs_qualitative(\"dummy1\", \"dummy2\")"
   ]
  }
 ],
 "metadata": {
  "kernelspec": {
   "display_name": "Python 3",
   "language": "python",
   "name": "python3"
  },
  "language_info": {
   "codemirror_mode": {
    "name": "ipython",
    "version": 3
   },
   "file_extension": ".py",
   "mimetype": "text/x-python",
   "name": "python",
   "nbconvert_exporter": "python",
   "pygments_lexer": "ipython3",
   "version": "3.8.5"
  }
 },
 "nbformat": 4,
 "nbformat_minor": 4
}
