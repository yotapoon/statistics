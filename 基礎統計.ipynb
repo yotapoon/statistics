{
 "cells": [
  {
   "cell_type": "markdown",
   "metadata": {},
   "source": [
    "ライブラリのインポート．"
   ]
  },
  {
   "cell_type": "code",
   "execution_count": null,
   "metadata": {},
   "outputs": [],
   "source": [
    "import seaborn as sns\n",
    "import pandas as pd\n",
    "import numpy as np\n",
    "import matplotlib as mpl\n",
    "import matplotlib.pyplot as plt\n",
    "%matplotlib inline\n",
    "import statsmodels.api as sm"
   ]
  },
  {
   "cell_type": "markdown",
   "metadata": {},
   "source": [
    "データの読み込み．ここではすでにcompleteなデータであるものとする．"
   ]
  },
  {
   "cell_type": "code",
   "execution_count": null,
   "metadata": {},
   "outputs": [],
   "source": [
    "X = pd.read_excel(\"data.xlsx\", index_col = 0)\n",
    "display(X)"
   ]
  },
  {
   "cell_type": "markdown",
   "metadata": {},
   "source": [
    "# 連続変数"
   ]
  },
  {
   "cell_type": "code",
   "execution_count": null,
   "metadata": {},
   "outputs": [],
   "source": [
    "factor1_list = [\"x\", \"y\", \"z\"]\n",
    "factor2_list = [\"u\", \"v\"]\n",
    "\n",
    "# factor 1\n",
    "plt.figure(figsize = (4*len(factor1_list), 4))\n",
    "for idx, factor in enumerate(factor1_list):\n",
    "    plt.subplot(1, len(factor1_list), idx + 1)\n",
    "    plt.hist(X[factor], bins = 20, label = factor)\n",
    "    plt.xlabel(factor, fontsize = 18)\n",
    "    plt.ylabel(\"frequency\", fontsize = 18)\n",
    "plt.tight_layout()\n",
    "\n",
    "# factor 2\n",
    "plt.figure(figsize = (4*len(factor2_list), 4))\n",
    "for idx, factor in enumerate(factor2_list):\n",
    "    plt.subplot(1, len(factor2_list), idx + 1)\n",
    "    plt.hist(X[factor], bins = 20, label = factor)\n",
    "    plt.xlabel(factor, fontsize = 18)\n",
    "    plt.ylabel(\"frequency\", fontsize = 18)\n",
    "plt.tight_layout()"
   ]
  },
  {
   "cell_type": "markdown",
   "metadata": {},
   "source": [
    "# ダミー変数"
   ]
  },
  {
   "cell_type": "code",
   "execution_count": null,
   "metadata": {},
   "outputs": [],
   "source": [
    "# 順序構造を記述したリスト，データはこの中の一部の値しか持っていないかもしれない\n",
    "dummy1_full_list = [\"A\", \"B\", \"C\", \"D\", \"E\", \"F\", \"G\", \"H\", \"I\", \"J\", \"K\", \"AB\"]\n",
    "df_dummy1 = pd.DataFrame(index = dummy1_full_list, columns = [\"number\", \"ratio\"])\n",
    "for dummy1 in dummy1_full_list:\n",
    "    df_dummy1.at[dummy1, \"number\"] = sum(X[\"dummy1\"] == dummy1)\n",
    "    df_dummy1.at[dummy1, \"ratio\"] = sum(X[\"dummy1\"] == dummy1) / len(X)\n",
    "df_dummy1 = df_dummy1[df_dummy1[\"number\"] != 0]\n",
    "\n",
    "df_dummy1 = df_dummy1[::-1]\n",
    "position = np.arange(len(df_dummy1))\n",
    "plt.barh(position, df_dummy1[\"number\"])\n",
    "plt.xlabel(\"frequency\", fontsize = 18)\n",
    "plt.yticks(position, df_dummy1.index)\n",
    "\n",
    "df_dummy1 = df_dummy1[::-1]\n",
    "display(df_dummy1)"
   ]
  },
  {
   "cell_type": "markdown",
   "metadata": {},
   "source": [
    "# 連続変数 vs 連続変数"
   ]
  },
  {
   "cell_type": "code",
   "execution_count": null,
   "metadata": {},
   "outputs": [],
   "source": [
    "# factor1 vs factor2\n",
    "# factor1が行となり，factor2が列となるイメージ\n",
    "plt.figure(figsize = (4*len(factor2_list), 4*len(factor1_list)))\n",
    "for idx1, factor1 in enumerate(factor1_list):\n",
    "    for idx2, factor2, in enumerate(factor2_list):\n",
    "        plt.subplot(len(factor1_list), len(factor2_list), idx1*len(factor2_list) + idx2 + 1)\n",
    "        plt.scatter(X[factor2], X[factor1], alpha = 0.4)\n",
    "        plt.xlabel(factor2, fontsize = 18)\n",
    "        plt.ylabel(factor1 , fontsize = 18)\n",
    "        plt.title(factor2 + \" vs \" + factor1, fontsize = 24)\n",
    "plt.tight_layout()\n"
   ]
  },
  {
   "cell_type": "markdown",
   "metadata": {},
   "source": [
    "# ダミー変数 vs ダミー変数"
   ]
  },
  {
   "cell_type": "code",
   "execution_count": null,
   "metadata": {},
   "outputs": [],
   "source": [
    "dummy1_full_list = [\"A\", \"B\", \"C\", \"D\", \"E\", \"F\", \"G\", \"H\", \"I\", \"J\", \"K\", \"AB\"]\n",
    "dummy2_full_list = [\"a\", \"b\", \"c\", \"d\", \"e\"]\n",
    "\n",
    "df_dummy1_dummy2 = pd.DataFrame(index = dummy1_full_list, columns = dummy2_full_list)\n",
    "for dummy1 in dummy1_full_list:\n",
    "    for dummy2 in dummy2_full_list:\n",
    "        df_dummy1_dummy2.at[dummy1, dummy2] = sum( (X[\"dummy1\"] == dummy1) & (X[\"dummy2\"] == dummy2) )\n",
    "df_dummy1_dummy2 = df_dummy1_dummy2\n",
    "\n",
    "# データの入っていない列を削除\n",
    "for column in df_dummy1_dummy2.columns:\n",
    "    if (df_dummy1_dummy2[column] == 0).all():\n",
    "        df_dummy1_dummy2.drop(column, axis = 1, inplace = True)\n",
    "\n",
    "# データの入っていない行を削除\n",
    "for idx in df_dummy1_dummy2.index:\n",
    "    if (df_dummy1_dummy2.loc[idx] == 0).all():\n",
    "        df_dummy1_dummy2.drop(idx, axis = 0, inplace = True)\n",
    "#display(df_dummy1_dummy2)\n",
    "\n",
    "\n",
    "plt.figure(figsize = (2*len(df_dummy1_dummy2.columns), len(df_dummy1_dummy2.index)))\n",
    "sns.heatmap(df_dummy1_dummy2.astype(int), annot = True, fmt = \"g\", cmap = \"Blues\")\n",
    "plt.savefig(\"heat_map.jpg\")"
   ]
  },
  {
   "cell_type": "markdown",
   "metadata": {},
   "source": [
    "# 連続変数 vs ダミー変数"
   ]
  },
  {
   "cell_type": "code",
   "execution_count": null,
   "metadata": {},
   "outputs": [],
   "source": [
    "factor_list = [\"x\", \"y\", \"z\"]\n",
    "\n",
    "dummy_full_list = [\"A\", \"B\", \"C\", \"D\", \"E\", \"F\", \"G\", \"H\", \"I\", \"J\", \"K\", \"AB\"]\n",
    "df_dummy = pd.DataFrame(index = dummy1_full_list, columns = [\"number\", \"ratio\"])\n",
    "for dummy in dummy_full_list:\n",
    "    df_dummy.at[dummy, \"number\"] = sum(X[\"dummy1\"] == dummy)\n",
    "    df_dummy.at[dummy, \"ratio\"] = sum(X[\"dummy1\"] == dummy) / len(X)\n",
    "df_dummy = df_dummy[df_dummy[\"number\"] != 0]\n",
    "\n",
    "df_dummy = df_dummy[::-1]\n",
    "plt.figure(figsize = (4*len(factor_list), len(df_dummy)))\n",
    "for idx_factor, factor in enumerate(factor_list):\n",
    "    plt.subplot(1, len(factor_list), idx_factor + 1)\n",
    "    x_dummy = [[] for _ in range(len(df_dummy.index))]\n",
    "    for idx_dummy, dummy in enumerate(df_dummy.index):\n",
    "        x_dummy[idx_dummy] = X[X[\"dummy1\"] == dummy][factor]\n",
    "    plt.boxplot(x_dummy, vert = False, labels = df_dummy.index)\n",
    "    plt.xlabel(factor, fontsize = 14)\n",
    "    plt.ylabel(\"dummy1\", fontsize = 14)\n",
    "df_dummy = df_dummy[::-1]"
   ]
  },
  {
   "cell_type": "markdown",
   "metadata": {},
   "source": [
    "# ここまでの結果を関数にする"
   ]
  },
  {
   "cell_type": "markdown",
   "metadata": {},
   "source": [
    "## 連続変数"
   ]
  },
  {
   "cell_type": "code",
   "execution_count": null,
   "metadata": {},
   "outputs": [],
   "source": [
    "def get_hist(X, factor_list): # X：テーブル，factor_list：注目するファクターのリスト\n",
    "    plt.figure(figsize = (4*len(factor_list), 4))\n",
    "    for idx, factor in enumerate(factor_list):\n",
    "        plt.subplot(1, len(factor_list), idx + 1)\n",
    "        hist = plt.hist(X[factor], bins = 20, label = factor)\n",
    "        plt.xlabel(factor, fontsize = 18)\n",
    "        plt.ylabel(\"frequency\", fontsize = 18)\n",
    "    plt.tight_layout()\n",
    "    return hist\n",
    "\n",
    "factor1_list = [\"x\", \"y\", \"z\"]\n",
    "hist_factor1 = get_hist(X, factor1_list)\n"
   ]
  },
  {
   "cell_type": "markdown",
   "metadata": {},
   "source": [
    "## ダミー変数"
   ]
  },
  {
   "cell_type": "code",
   "execution_count": null,
   "metadata": {},
   "outputs": [],
   "source": [
    "def get_bar(X, dummy, dummy_full_list = []): # dummyは注目するダミー変数，dummy_full_listはそのダミー変数の順序を決めたリスト\n",
    "    if len(dummy_full_list) == 0:\n",
    "        dummy_full_list = X[dummy].unique() # dummy_full_listがない場合は適当に作成\n",
    "    df_dummy = pd.DataFrame(index = dummy_full_list, columns = [\"number\", \"ratio\"])\n",
    "    for entity in dummy_full_list:\n",
    "        df_dummy.at[entity, \"number\"] = sum(X[dummy] == entity)\n",
    "        df_dummy.at[entity, \"ratio\"] = sum(X[dummy] == entity) / len(X)\n",
    "    df_dummy = df_dummy[df_dummy[\"number\"] != 0] # 0個であるような要素は削除\n",
    "    df_dummy = df_dummy[::-1] # 棒グラフプロットのため，インデックスの逆順に並べ直す\n",
    "    \n",
    "    # 棒グラフプロット\n",
    "    position = np.arange(len(df_dummy))\n",
    "    plt.barh(position, df_dummy[\"number\"])\n",
    "    plt.xlabel(\"frequency\", fontsize = 18)\n",
    "    plt.yticks(position, df_dummy.index)\n",
    "    \n",
    "    df_dummy = df_dummy[::-1] # テーブルとしては元の順番の方がよい\n",
    "    return df_dummy\n",
    "\n",
    "dummy1_full_list = [\"A\", \"B\", \"C\", \"D\", \"E\", \"F\", \"G\", \"H\", \"I\", \"J\", \"K\", \"AB\"]\n",
    "df_dummy1 = get_bar(X, \"dummy1\", dummy1_full_list)"
   ]
  },
  {
   "cell_type": "markdown",
   "metadata": {},
   "source": [
    "# 連続変数 vs 連続変数"
   ]
  },
  {
   "cell_type": "code",
   "execution_count": null,
   "metadata": {},
   "outputs": [],
   "source": [
    "def get_scatter(X, factor1_list, factor2_list):\n",
    "    df_factor1_factor2 = {}\n",
    "    # factor1 vs factor2\n",
    "    # factor1が行となり，factor2が列となるイメージ\n",
    "    plt.figure(figsize = (4*len(factor2_list), 4*len(factor1_list)))\n",
    "    for idx1, factor1 in enumerate(factor1_list):\n",
    "        for idx2, factor2, in enumerate(factor2_list):\n",
    "            df_factor1_factor2[factor2 + \" vs \" + factor1] = X[[factor2, factor1]]\n",
    "            plt.subplot(len(factor1_list), len(factor2_list), idx1*len(factor2_list) + idx2 + 1)\n",
    "            plt.scatter(X[factor2], X[factor1], alpha = 0.4)\n",
    "            plt.xlabel(factor2, fontsize = 18)\n",
    "            plt.ylabel(factor1 , fontsize = 18)\n",
    "            plt.title(factor2 + \" vs \" + factor1, fontsize = 24)\n",
    "    plt.tight_layout()\n",
    "    return df_factor1_factor2\n",
    "\n",
    "factor1_list = [\"x\", \"y\", \"z\"]\n",
    "factor2_list = [\"u\", \"v\"]\n",
    "df_factor1_factor2 = get_scatter(X, factor1_list, factor2_list)\n",
    "df_factor1_factor2    "
   ]
  },
  {
   "cell_type": "markdown",
   "metadata": {},
   "source": [
    "## ダミー変数 vs ダミー変数"
   ]
  },
  {
   "cell_type": "code",
   "execution_count": null,
   "metadata": {},
   "outputs": [],
   "source": [
    "def get_heat_map(X, dummy1, dummy2, dummy1_full_list, dummy2_full_list):\n",
    "    if len(dummy1_full_list) == 0:\n",
    "        dummy1_full_list = X[dummy1].unique()\n",
    "    if len(dummy2_full_list) == 0:\n",
    "        dummy2_full_list = X[dummy2].unique()\n",
    "\n",
    "    df_dummy1_dummy2 = pd.DataFrame(index = dummy1_full_list, columns = dummy2_full_list)\n",
    "    for entity1 in dummy1_full_list:\n",
    "        for entity2 in dummy2_full_list:\n",
    "            df_dummy1_dummy2.at[entity1, entity2] = sum( (X[dummy1] == entity1) & (X[dummy2] == entity2) )\n",
    "\n",
    "    # データの入っていない列を削除\n",
    "    for column in df_dummy1_dummy2.columns:\n",
    "        if (df_dummy1_dummy2[column] == 0).all():\n",
    "            df_dummy1_dummy2.drop(column, axis = 1, inplace = True)\n",
    "\n",
    "    # データの入っていない行を削除\n",
    "    for idx in df_dummy1_dummy2.index:\n",
    "        if (df_dummy1_dummy2.loc[idx] == 0).all():\n",
    "            df_dummy1_dummy2.drop(idx, axis = 0, inplace = True)\n",
    "            \n",
    "    plt.figure(figsize = (len(df_dummy1_dummy2.columns), 0.75*len(df_dummy1_dummy2.index)))\n",
    "    sns.heatmap(df_dummy1_dummy2.astype(int), annot = True, fmt = \"g\", cmap = \"Blues\")\n",
    "    plt.savefig(\"heat_map.jpg\")\n",
    "    \n",
    "    return df_dummy1_dummy2\n",
    "\n",
    "dummy1_full_list = [\"A\", \"B\", \"C\", \"D\", \"E\", \"F\", \"G\", \"H\", \"I\", \"J\", \"K\", \"AB\"]\n",
    "dummy2_full_list = [\"a\", \"b\", \"c\", \"d\", \"e\"]\n",
    "df_dummy1_dummy2 = get_heat_map(X, \"dummy1\", \"dummy2\", dummy1_full_list, dummy2_full_list)\n",
    "display(df_dummy1_dummy2)"
   ]
  },
  {
   "cell_type": "markdown",
   "metadata": {},
   "source": [
    "## 連続変数 vs ダミー変数"
   ]
  },
  {
   "cell_type": "code",
   "execution_count": null,
   "metadata": {},
   "outputs": [],
   "source": [
    "def get_boxplot(X, factor_list, dummy, dummy_full_list):\n",
    "    df_dummy = pd.DataFrame(index = dummy1_full_list, columns = [\"number\", \"ratio\"])\n",
    "    for entity in dummy_full_list:\n",
    "        df_dummy.at[entity, \"number\"] = sum(X[dummy] == entity)\n",
    "        df_dummy.at[entity, \"ratio\"] = sum(X[dummy] == entity) / len(X)\n",
    "    df_dummy = df_dummy[df_dummy[\"number\"] != 0]\n",
    "\n",
    "    df_dummy = df_dummy[::-1] # プロットのためダミー変数のテーブルを逆順に\n",
    "    plt.figure(figsize = (4*len(factor_list), len(df_dummy)))\n",
    "    \n",
    "    \n",
    "    df_factor_dummy = pd.DataFrame(index = X.index, columns = [dummy] + factor_list)\n",
    "    \n",
    "    for idx_factor, factor in enumerate(factor_list):\n",
    "        #print(factor)\n",
    "        plt.subplot(1, len(factor_list), idx_factor + 1)\n",
    "        x_dummy = [[] for _ in range(len(df_dummy.index))]\n",
    "        idx_start = 0\n",
    "        for idx_dummy, entity in enumerate(df_dummy.index):\n",
    "            x_dummy[idx_dummy] = X[X[dummy] == entity][factor]\n",
    "            df_factor_dummy.loc[idx_start:idx_start + len(x_dummy[idx_dummy]), dummy] = entity\n",
    "            df_factor_dummy.loc[idx_start:idx_start + len(x_dummy[idx_dummy]), factor] = X[X[dummy] == entity][factor]\n",
    "            print(len(df_factor_dummy.loc[idx_start:idx_start + len(x_dummy[idx_dummy])-1, factor]), len(X[X[dummy] == entity]))\n",
    "            display(X[X[dummy] == entity][factor])\n",
    "            idx_start += len(x_dummy[idx_dummy]) + 1\n",
    "        plt.boxplot(x_dummy, vert = False, labels = df_dummy.index)\n",
    "        plt.xlabel(factor, fontsize = 14)\n",
    "        plt.ylabel(dummy, fontsize = 14)\n",
    "    df_dummy = df_dummy[::-1]\n",
    "    \n",
    "    return df_factor_dummy\n",
    "    \n",
    "factor_list = [\"x\", \"y\", \"z\"]\n",
    "dummy_full_list = [\"A\", \"B\", \"C\", \"D\", \"E\", \"F\", \"G\", \"H\", \"I\", \"J\", \"K\", \"AB\"]\n",
    "\n",
    "df_factor_dummy = get_boxplot(X, factor_list, \"dummy1\", dummy_full_list)\n",
    "display(df_factor_dummy)"
   ]
  },
  {
   "cell_type": "code",
   "execution_count": null,
   "metadata": {},
   "outputs": [],
   "source": [
    "list1 = [\"a\"]\n",
    "list2 = [\"b\", \"b\"]\n",
    "list1 + list2"
   ]
  },
  {
   "cell_type": "code",
   "execution_count": null,
   "metadata": {},
   "outputs": [],
   "source": []
  }
 ],
 "metadata": {
  "kernelspec": {
   "display_name": "Python 3",
   "language": "python",
   "name": "python3"
  },
  "language_info": {
   "codemirror_mode": {
    "name": "ipython",
    "version": 3
   },
   "file_extension": ".py",
   "mimetype": "text/x-python",
   "name": "python",
   "nbconvert_exporter": "python",
   "pygments_lexer": "ipython3",
   "version": "3.8.5"
  }
 },
 "nbformat": 4,
 "nbformat_minor": 4
}
